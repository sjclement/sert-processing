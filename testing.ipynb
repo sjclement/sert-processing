{
 "cells": [
  {
   "cell_type": "markdown",
   "id": "634082cd",
   "metadata": {},
   "source": [
    "# Efficient server environments\n"
   ]
  },
  {
   "cell_type": "code",
   "execution_count": 1,
   "id": "701c0121",
   "metadata": {},
   "outputs": [],
   "source": [
    "import numpy as np\n",
    "import pandas as pd\n",
    "from sert_score import score_file\n",
    "from parse_results import process_results_xml"
   ]
  },
  {
   "cell_type": "code",
   "execution_count": 2,
   "id": "98812899",
   "metadata": {},
   "outputs": [],
   "source": [
    "metrics, scores, env = process_results_xml('test-results\\\\sert-0020\\\\results.xml')"
   ]
  },
  {
   "cell_type": "code",
   "execution_count": 3,
   "id": "52470529",
   "metadata": {},
   "outputs": [
    {
     "data": {
      "text/plain": [
       "{'vendor': 'Dell Inc.',\n",
       " 'model': 'PowerEdge R620',\n",
       " 'cpu': 'Intel(R) Xeon(R) CPU E5-2690 0 @ 2.90GHz',\n",
       " 'dimms': '8',\n",
       " 'dimm_size_mb': '8192',\n",
       " 'psu': '750'}"
      ]
     },
     "execution_count": 3,
     "metadata": {},
     "output_type": "execute_result"
    }
   ],
   "source": [
    "env"
   ]
  },
  {
   "cell_type": "code",
   "execution_count": 8,
   "id": "a2e33219",
   "metadata": {},
   "outputs": [
    {
     "data": {
      "text/html": [
       "<div>\n",
       "<style scoped>\n",
       "    .dataframe tbody tr th:only-of-type {\n",
       "        vertical-align: middle;\n",
       "    }\n",
       "\n",
       "    .dataframe tbody tr th {\n",
       "        vertical-align: top;\n",
       "    }\n",
       "\n",
       "    .dataframe thead th {\n",
       "        text-align: right;\n",
       "    }\n",
       "</style>\n",
       "<table border=\"1\" class=\"dataframe\">\n",
       "  <thead>\n",
       "    <tr style=\"text-align: right;\">\n",
       "      <th></th>\n",
       "      <th>cpu</th>\n",
       "      <th>dimm_size_mb</th>\n",
       "      <th>dimms</th>\n",
       "      <th>model</th>\n",
       "      <th>psu</th>\n",
       "      <th>vendor</th>\n",
       "    </tr>\n",
       "  </thead>\n",
       "  <tbody>\n",
       "    <tr>\n",
       "      <th>sert-0020</th>\n",
       "      <td>Intel(R) Xeon(R) CPU E5-2690 0 @ 2.90GHz</td>\n",
       "      <td>8192</td>\n",
       "      <td>8</td>\n",
       "      <td>PowerEdge R620</td>\n",
       "      <td>750</td>\n",
       "      <td>Dell Inc.</td>\n",
       "    </tr>\n",
       "  </tbody>\n",
       "</table>\n",
       "</div>"
      ],
      "text/plain": [
       "                                                cpu dimm_size_mb dimms  \\\n",
       "sert-0020  Intel(R) Xeon(R) CPU E5-2690 0 @ 2.90GHz         8192     8   \n",
       "\n",
       "                    model  psu     vendor  \n",
       "sert-0020  PowerEdge R620  750  Dell Inc.  "
      ]
     },
     "execution_count": 8,
     "metadata": {},
     "output_type": "execute_result"
    }
   ],
   "source": [
    "#idx = pd.MultiIndex.from_tuples(list(stacked_data.keys()), names=('workload', 'worklet', 'load-level', 'metric'))\n",
    "data = pd.DataFrame.from_records(env, index=['sert-0020'])\n",
    "data"
   ]
  },
  {
   "cell_type": "code",
   "execution_count": null,
   "id": "70027725",
   "metadata": {},
   "outputs": [],
   "source": [
    "target_dir = 'test-results'\n",
    "\n",
    "fpat = re.compile(target_dir + '/(.*)/results.xml')\n",
    "\n",
    "data = pd.DataFrame()\n",
    "\n",
    "for f in glob.glob(target_dir + '/**/results.xml', recursive=True):\n",
    "    try:    \n",
    "        metrics, scores, env = process_results_xml(f)\n",
    "        file_df = pd.DataFrame.from_records(metrics)\n",
    "        \n",
    "        \n",
    "        \n",
    "    except Exception as e:\n",
    "        print(f, ': FAILED -- ', e)"
   ]
  },
  {
   "cell_type": "code",
   "execution_count": null,
   "id": "666a44bc",
   "metadata": {},
   "outputs": [],
   "source": []
  },
  {
   "cell_type": "code",
   "execution_count": null,
   "id": "8fff66d9",
   "metadata": {},
   "outputs": [],
   "source": []
  },
  {
   "cell_type": "code",
   "execution_count": null,
   "id": "0f8ddaa4",
   "metadata": {},
   "outputs": [],
   "source": []
  }
 ],
 "metadata": {
  "kernelspec": {
   "display_name": "data-analysis-user",
   "language": "python",
   "name": "data-analysis-user"
  },
  "language_info": {
   "codemirror_mode": {
    "name": "ipython",
    "version": 3
   },
   "file_extension": ".py",
   "mimetype": "text/x-python",
   "name": "python",
   "nbconvert_exporter": "python",
   "pygments_lexer": "ipython3",
   "version": "3.9.5"
  }
 },
 "nbformat": 4,
 "nbformat_minor": 5
}
