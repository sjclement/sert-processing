{
 "cells": [
  {
   "cell_type": "markdown",
   "metadata": {},
   "source": [
    "# The Impact of Ambient Temperature on Server Efficiency\n",
    "\n",
    "\n",
    "Hypothesis: Server power consumption increases as temperature increases reducing server efficiency. As PUE values approach 1 an increasing portion of the Data centre's power is used in the server therfore there is likely to be a trade-off on operating temperature depending on cooling infrastructure and number of servers in the datacenter. \n",
    "\n",
    "------\n",
    "\n",
    "Plan:\n",
    "\n",
    "- Load in all of the SERT results avoiding any invalid ones\n",
    "- Merge data as needed \n",
    "- Generate graphs showing power consumption against load and temperature\n",
    "- Find a trade-off between operating temperature and number of servers. \n"
   ]
  },
  {
   "cell_type": "code",
   "execution_count": 2,
   "metadata": {},
   "outputs": [],
   "source": [
    "import numpy as np\n",
    "import pandas as pd\n",
    "import re\n",
    "import os.path\n",
    "import glob\n",
    "from parse_results import process_results_xml"
   ]
  },
  {
   "cell_type": "code",
   "execution_count": 3,
   "metadata": {
    "tags": [
     "parameters"
    ]
   },
   "outputs": [],
   "source": [
    "target_dir = 'OneDrive//Results - PowerEdge'\n",
    "bios_setting_file = 'test_settings.csv'\n",
    "cpu_metrics_dir = 'cpu_data'"
   ]
  },
  {
   "cell_type": "code",
   "execution_count": 3,
   "metadata": {},
   "outputs": [
    {
     "name": "stdout",
     "output_type": "stream",
     "text": [
      "sert-0129 : INVALID RESULT\n",
      "sert-0077 : INVALID RESULT\n",
      "sert-0056 : INVALID RESULT\n",
      "sert-0131 : INVALID RESULT\n",
      "sert-0099 : INVALID RESULT\n",
      "sert-0096 : INVALID RESULT\n",
      "sert-0035 : INVALID RESULT\n",
      "sert-0111 : INVALID RESULT\n",
      "sert-0108 : INVALID RESULT\n",
      "sert-0094 : INVALID RESULT\n",
      "sert-0041 : INVALID RESULT\n",
      "sert-0107 : INVALID RESULT\n",
      "sert-0070 : INVALID RESULT\n",
      "sert-0092 : INVALID RESULT\n",
      "sert-0132 : INVALID RESULT\n",
      "sert-0143 : INVALID RESULT\n",
      "sert-0027 : INVALID RESULT\n",
      "sert-0105 : INVALID RESULT\n",
      "OneDrive//Results - PowerEdge/sert-0101/results.xml : FAILED --  'NoneType' object has no attribute 'text' <class 'AttributeError'>\n",
      "sert-0128 : INVALID RESULT\n",
      "sert-0034 : INVALID RESULT\n",
      "sert-0036 : INVALID RESULT\n",
      "sert-0073 : INVALID RESULT\n",
      "sert-0082 : INVALID RESULT\n",
      "sert-0104 : INVALID RESULT\n",
      "sert-0098 : INVALID RESULT\n",
      "sert-0033 : INVALID RESULT\n",
      "sert-0095 : INVALID RESULT\n",
      "sert-0059 : INVALID RESULT\n",
      "sert-0031 : INVALID RESULT\n",
      "sert-0127 : INVALID RESULT\n",
      "sert-0112 : INVALID RESULT\n",
      "sert-0069 : INVALID RESULT\n",
      "sert-0156 : INVALID RESULT\n",
      "sert-0042 : INVALID RESULT\n",
      "sert-0133 : INVALID RESULT\n",
      "sert-0130 : INVALID RESULT\n",
      "sert-0153 : INVALID RESULT\n",
      "sert-0159 : INVALID RESULT\n",
      "sert-0103 : INVALID RESULT\n",
      "sert-0100 : INVALID RESULT\n",
      "sert-0102 : INVALID RESULT\n",
      "OneDrive//Results - PowerEdge/sert-0106/results.xml : FAILED --  'NoneType' object has no attribute 'find' <class 'AttributeError'>\n",
      "sert-0109 : INVALID RESULT\n",
      "sert-0074 : INVALID RESULT\n",
      "sert-0126 : INVALID RESULT\n",
      "sert-0136 : INVALID RESULT\n",
      "sert-0086 : INVALID RESULT\n",
      "sert-0040 : INVALID RESULT\n",
      "sert-0110 : INVALID RESULT\n",
      "sert-0135 : INVALID RESULT\n",
      "OneDrive//Results - PowerEdge/sert-0142/results.xml : FAILED --  time data '2021-08-07T12:48:25+01:00' does not match format '%Y-%m-%dT%H:%M:%Sf%z' <class 'ValueError'>\n",
      "OneDrive//Results - PowerEdge/sert-0030/results.xml : FAILED --  'NoneType' object has no attribute 'text' <class 'AttributeError'>\n",
      "sert-0097 : INVALID RESULT\n",
      "sert-0151 : INVALID RESULT\n"
     ]
    }
   ],
   "source": [
    "metrics_data = pd.DataFrame()\n",
    "test_details = pd.DataFrame()\n",
    "scores = pd.DataFrame()\n",
    "\n",
    "for f in glob.glob(f'{target_dir}//**//results.xml', recursive=True):\n",
    "    try:\n",
    "        # Name of test directory -- sert-xxxx\n",
    "        test_name = os.path.basename(os.path.dirname(f))\n",
    "        \n",
    "        if os.path.isfile(f'{target_dir}//{test_name}//invalid.png'):\n",
    "            print(test_name, ': INVALID RESULT')\n",
    "            continue\n",
    "        \n",
    "        metrics, score, env = process_results_xml(f)\n",
    "        \n",
    "        file_df = pd.DataFrame.from_records(metrics)\n",
    "        # Remove calibration runs but record the calibration score against each loadlevel to calculate actual loadlevel\n",
    "        calibrations = file_df.loc[file_df['loadlevel']=='calibration', ['worklet', 'score']]\n",
    "        calibrations = calibrations.rename(columns={'score': 'calibration_score'})\n",
    "        \n",
    "        file_df = pd.merge(file_df.drop(index=calibrations.index), calibrations, how='left', on='worklet')\n",
    "        file_df['actual_load'] = file_df['score'] / file_df['calibration_score']\n",
    "        file_df['test-name'] = test_name\n",
    "        \n",
    "        score_df = pd.DataFrame.from_records(score)\n",
    "        score_df['test-name'] = test_name\n",
    "    \n",
    "        metrics_data = metrics_data.append(file_df, ignore_index=True)\n",
    "        test_details = test_details.append(pd.DataFrame.from_records(env, index=[test_name]))\n",
    "        scores = scores.append(score_df, ignore_index=True)\n",
    "        \n",
    "    except Exception as e:\n",
    "        print(f, ': FAILED -- ', e, type(e))\n",
    "        "
   ]
  },
  {
   "cell_type": "code",
   "execution_count": 4,
   "metadata": {},
   "outputs": [],
   "source": [
    "if bios_setting_file != '':\n",
    "    settings = pd.read_csv(bios_setting_file, index_col=0)\n",
    "else:\n",
    "    settings = pd.DataFrame()\n",
    "    \n",
    "settings.columns = ['location', 'bios']\n",
    "test_details = pd.merge(test_details, settings, left_index=True, right_index=True)"
   ]
  },
  {
   "cell_type": "code",
   "execution_count": null,
   "metadata": {},
   "outputs": [],
   "source": []
  },
  {
   "cell_type": "code",
   "execution_count": 5,
   "metadata": {},
   "outputs": [],
   "source": [
    "full_details = pd.DataFrame()\n",
    "full_details = pd.merge(metrics_data, scores, how='left', on=['test-name', 'worklet', 'loadlevel', 'workload', 'score', 'watts-avg'])\n",
    "full_details = pd.merge(full_details, test_details, left_on='test-name', right_index=True)\n",
    "full_details.loc[full_details['workload'] == 'Idle', 'actual_load'] = 0"
   ]
  },
  {
   "cell_type": "code",
   "execution_count": 6,
   "metadata": {},
   "outputs": [
    {
     "name": "stdout",
     "output_type": "stream",
     "text": [
      "WARNGING - all_data.csv already exists, overwrite? (Y/N)Y\n"
     ]
    }
   ],
   "source": [
    "if os.path.isfile('all_data.csv'):\n",
    "    overwrite = input('WARNGING - all_data.csv already exists, overwrite? (Y/N)')\n",
    "    if overwrite == 'Y' or overwrite == 'y':\n",
    "        full_details.to_csv('all_data.csv')\n",
    "else:\n",
    "    full_details.to_csv('all_data.csv')\n",
    "    \n",
    "metrics_data.to_csv('metrics.csv')\n",
    "test_details.to_csv('test_details.csv')\n",
    "scores.to_csv('scores.csv')"
   ]
  },
  {
   "cell_type": "markdown",
   "metadata": {},
   "source": [
    "# Efficiency and Power consumption\n",
    "\n",
    "Todo: \n",
    "- Generate previous graphs for efficiency and power against load\n",
    "- Fit basic curves to each"
   ]
  },
  {
   "cell_type": "code",
   "execution_count": 4,
   "metadata": {},
   "outputs": [],
   "source": [
    "full_details = pd.read_csv('all_data.csv', parse_dates=['start', 'end'])"
   ]
  },
  {
   "cell_type": "code",
   "execution_count": 5,
   "metadata": {},
   "outputs": [
    {
     "data": {
      "text/plain": [
       "<matplotlib.axes._subplots.AxesSubplot at 0x7f18b41a3dd0>"
      ]
     },
     "execution_count": 5,
     "metadata": {},
     "output_type": "execute_result"
    },
    {
     "data": {
      "image/png": "[encoded data removed]",
      "text/plain": [
       "<Figure size 432x288 with 1 Axes>"
      ]
     },
     "metadata": {
      "needs_background": "light"
     },
     "output_type": "display_data"
    }
   ],
   "source": [
    "import seaborn as sns\n",
    "\n",
    "cpu = full_details[(full_details['workload'] == 'CPU')| (full_details['workload'] == 'Idle')]\n",
    "cpu = cpu[cpu['cpu'].str.contains('2690')]\n",
    "\n",
    "sns.scatterplot('actual_load', 'watts-avg', hue='model', data=cpu)"
   ]
  },
  {
   "cell_type": "markdown",
   "metadata": {},
   "source": [
    "# CPU Power\n",
    "\n",
    "The CPU is usually considered the driver of most power consumption in the server (excluding any expansion cards). During the SERT tests we have also recorded low-level performance registers of the CPU like per-core frequency and also power consumption. \n",
    "\n",
    "Todo: \n",
    "- Add CPU power and frequency data to runs\n",
    "- Determine relationship between chassis and CPU power consumption\n",
    "    - Assume power = P_Idle + P_Chassis + P_CPU\n",
    "    - IS P_Chassis a function of CPU power?"
   ]
  },
  {
   "cell_type": "code",
   "execution_count": 56,
   "metadata": {},
   "outputs": [],
   "source": [
    "cpu_metrics = pd.DataFrame()\n",
    "\n",
    "for f in glob.glob(f'{cpu_metrics_dir}//**.csv', recursive=True):\n",
    "#     try:\n",
    "    samples = pd.read_csv(f, skiprows=8, header=0, index_col=0, parse_dates=['Time'], encoding='cp1252')\n",
    "    if not pd.api.types.is_datetime64_any_dtype(samples.index.dtype):\n",
    "        # Final row contains \"Session end:\"\n",
    "        samples.drop('Session end:', inplace=True)\n",
    "        samples.index = pd.to_datetime(samples.index)\n",
    "    \n",
    "    cpu_metrics = cpu_metrics.append(samples)\n",
    "#     except:\n",
    "#         print(f'FAILED LOADING FILE: {f}')\n",
    "    \n",
    "cpu_metrics.sort_index(inplace=True)\n",
    "cpu_metrics['total cpu power'] = cpu_metrics['CPU 0 Power'] + cpu_metrics['CPU 1 Power']"
   ]
  },
  {
   "cell_type": "code",
   "execution_count": 68,
   "metadata": {},
   "outputs": [],
   "source": [
    "#pd.to_datetime(cpu_metrics['Time']\n",
    "full_details['cpu_power'] = full_details.apply(lambda row: cpu_metrics['total cpu power'][row['start'].tz_localize(None):row['end'].tz_localize(None)].mean(), axis=1)\n",
    "full_details['chassis_power'] = full_details['watts-avg'] - full_details['cpu_power']"
   ]
  },
  {
   "cell_type": "code",
   "execution_count": 89,
   "metadata": {},
   "outputs": [
    {
     "data": {
      "text/plain": [
       "<matplotlib.axes._subplots.AxesSubplot at 0x7f18ae693c10>"
      ]
     },
     "execution_count": 89,
     "metadata": {},
     "output_type": "execute_result"
    },
    {
     "data": {
      "image/png": "[encoded data removed]",
      "text/plain": [
       "<Figure size 432x288 with 1 Axes>"
      ]
     },
     "metadata": {
      "needs_background": "light"
     },
     "output_type": "display_data"
    }
   ],
   "source": [
    "#full_details['chassis_power'].describe()\n",
    "\n",
    "cpu = full_details[(full_details['workload'] == 'CPU')| (full_details['workload'] == 'Idle')]\n",
    "cpu = cpu[cpu['bios'] == 'Efficiency']\n",
    "cpu = cpu[cpu['cpu'].str.contains('E5-2690 0')]\n",
    "cpu['bios'].describe()\n",
    "\n",
    "sns.scatterplot('actual_load', 'chassis_power', data=cpu)\n",
    "sns.scatterplot('actual_load', 'cpu_power', data=cpu, marker='x')"
   ]
  },
  {
   "cell_type": "code",
   "execution_count": null,
   "metadata": {},
   "outputs": [],
   "source": []
  }
 ],
 "metadata": {
  "celltoolbar": "Tags",
  "kernelspec": {
   "display_name": "Python 3",
   "language": "python",
   "name": "python3"
  },
  "language_info": {
   "codemirror_mode": {
    "name": "ipython",
    "version": 3
   },
   "file_extension": ".py",
   "mimetype": "text/x-python",
   "name": "python",
   "nbconvert_exporter": "python",
   "pygments_lexer": "ipython3",
   "version": "3.7.6"
  }
 },
 "nbformat": 4,
 "nbformat_minor": 5
}
