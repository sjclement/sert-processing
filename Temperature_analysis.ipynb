{
 "cells": [
  {
   "cell_type": "markdown",
   "id": "5ab5e500",
   "metadata": {},
   "source": [
    "# The Impact of Ambient Temperature on Server Efficiency\n",
    "\n",
    "\n",
    "Hypothesis: Server power consumption increases as temperature increases reducing server efficiency. As PUE values approach 1 an increasing portion of the Data centre's power is used in the server therfore there is likely to be a trade-off on operating temperature depending on cooling infrastructure and number of servers in the datacenter. \n",
    "\n",
    "------\n",
    "\n",
    "Plan:\n",
    "\n",
    "- Load in all of the SERT results avoiding any invalid ones\n",
    "- Merge data as needed \n",
    "- Generate graphs showing power consumption against load and temperature\n",
    "- Find a trade-off between operating temperature and number of servers. \n"
   ]
  },
  {
   "cell_type": "code",
   "execution_count": 1,
   "id": "f2acf4ca",
   "metadata": {},
   "outputs": [],
   "source": [
    "import numpy as np\n",
    "import pandas as pd\n",
    "import re\n",
    "import os.path\n",
    "from os import makedirs\n",
    "import glob\n",
    "import seaborn as sns\n",
    "import matplotlib.pyplot as plt\n",
    "from parse_results import process_results_xml\n",
    "import yaml"
   ]
  },
  {
   "cell_type": "code",
   "execution_count": 13,
   "id": "b0faa2f6",
   "metadata": {
    "tags": [
     "parameters"
    ]
   },
   "outputs": [
    {
     "name": "stdout",
     "output_type": "stream",
     "text": [
      "{'results_dir': 'C:\\\\Users\\\\s.clement\\\\Techbuyer Group\\\\Dan Burdett- Techbuyer Europe - Results - PowerEdge', 'cpu_metrics_dir': 'C:\\\\Users\\\\s.clement\\\\OneDrive - Techbuyer Group\\\\cpu_data', 'test_settings': 'test_settings.csv', 'temp_dir': 'data', 'data_file': 'all_data.csv', 'overwrite_data': False}\n",
      "C:\\Users\\s.clement\\Techbuyer Group\\Dan Burdett- Techbuyer Europe - Results - PowerEdge test_settings.csv C:\\Users\\s.clement\\OneDrive - Techbuyer Group\\cpu_data data all_data.csv False\n"
     ]
    },
    {
     "name": "stderr",
     "output_type": "stream",
     "text": [
      "<ipython-input-13-178245377bf4>:3: YAMLLoadWarning: calling yaml.load() without Loader=... is deprecated, as the default Loader is unsafe. Please read https://msg.pyyaml.org/load for full details.\n",
      "  params = yaml.load(f)\n"
     ]
    }
   ],
   "source": [
    "\n",
    "if os.path.isfile('settings.yaml'):\n",
    "    with open('settings.yaml', 'r') as f:\n",
    "        params = yaml.load(f)\n",
    "else:\n",
    "    params = {}\n",
    "    \n",
    "sert_results_dir = params.get('results_dir', 'sert_results')\n",
    "bios_setting_file = params.get('test_settings', 'test_settings.csv')\n",
    "cpu_metrics_dir = params.get('cpu_metrics_dir', 'cpu_data')\n",
    "\n",
    "working_dir = params.get('temp_dir', 'temp_dir')\n",
    "all_data_file = params.get('data_file', 'all_data.csv')\n",
    "overwrite_data = params.get('overwrite_data', False)\n",
    "\n",
    "\n",
    "print(params)\n",
    "print(sert_results_dir, bios_setting_file, cpu_metrics_dir, working_dir, all_data_file, overwrite_data)\n",
    "    \n"
   ]
  },
  {
   "cell_type": "markdown",
   "id": "877ecedf",
   "metadata": {},
   "source": [
    "# Generate and load the data (Run Once)"
   ]
  },
  {
   "cell_type": "code",
   "execution_count": 12,
   "id": "d6bafcbd",
   "metadata": {},
   "outputs": [
    {
     "name": "stdout",
     "output_type": "stream",
     "text": [
      "Loading SERT data from disk\n"
     ]
    },
    {
     "data": {
      "text/html": [
       "<div>\n",
       "<style scoped>\n",
       "    .dataframe tbody tr th:only-of-type {\n",
       "        vertical-align: middle;\n",
       "    }\n",
       "\n",
       "    .dataframe tbody tr th {\n",
       "        vertical-align: top;\n",
       "    }\n",
       "\n",
       "    .dataframe thead th {\n",
       "        text-align: right;\n",
       "    }\n",
       "</style>\n",
       "<table border=\"1\" class=\"dataframe\">\n",
       "  <thead>\n",
       "    <tr style=\"text-align: right;\">\n",
       "      <th></th>\n",
       "      <th>score</th>\n",
       "      <th>watts-min</th>\n",
       "      <th>watts-max</th>\n",
       "      <th>watts-avg</th>\n",
       "      <th>temp-min</th>\n",
       "      <th>temp-max</th>\n",
       "      <th>temp-avg</th>\n",
       "      <th>calibration-score</th>\n",
       "      <th>actual-load</th>\n",
       "      <th>norm-score</th>\n",
       "      <th>ref-score</th>\n",
       "      <th>efficiency-score</th>\n",
       "      <th>dimm_size_mb</th>\n",
       "      <th>dimms</th>\n",
       "      <th>psu</th>\n",
       "    </tr>\n",
       "  </thead>\n",
       "  <tbody>\n",
       "    <tr>\n",
       "      <th>count</th>\n",
       "      <td>3.112000e+03</td>\n",
       "      <td>3112.000000</td>\n",
       "      <td>3112.000000</td>\n",
       "      <td>3112.000000</td>\n",
       "      <td>3112.000000</td>\n",
       "      <td>3112.000000</td>\n",
       "      <td>3112.000000</td>\n",
       "      <td>2.736000e+03</td>\n",
       "      <td>2808.000000</td>\n",
       "      <td>3040.000000</td>\n",
       "      <td>3040.000000</td>\n",
       "      <td>3040.000000</td>\n",
       "      <td>3112.0</td>\n",
       "      <td>3112.0</td>\n",
       "      <td>3112.0</td>\n",
       "    </tr>\n",
       "    <tr>\n",
       "      <th>mean</th>\n",
       "      <td>3.204501e+05</td>\n",
       "      <td>271.749987</td>\n",
       "      <td>282.537057</td>\n",
       "      <td>276.597605</td>\n",
       "      <td>22.910447</td>\n",
       "      <td>22.952241</td>\n",
       "      <td>22.932338</td>\n",
       "      <td>4.705268e+05</td>\n",
       "      <td>0.609434</td>\n",
       "      <td>3.492761</td>\n",
       "      <td>90131.503500</td>\n",
       "      <td>12.443580</td>\n",
       "      <td>8192.0</td>\n",
       "      <td>8.0</td>\n",
       "      <td>750.0</td>\n",
       "    </tr>\n",
       "    <tr>\n",
       "      <th>std</th>\n",
       "      <td>6.026955e+05</td>\n",
       "      <td>101.986656</td>\n",
       "      <td>104.603096</td>\n",
       "      <td>103.537904</td>\n",
       "      <td>2.051635</td>\n",
       "      <td>2.056999</td>\n",
       "      <td>2.053953</td>\n",
       "      <td>7.396114e+05</td>\n",
       "      <td>0.296561</td>\n",
       "      <td>2.941399</td>\n",
       "      <td>136025.498985</td>\n",
       "      <td>8.793184</td>\n",
       "      <td>0.0</td>\n",
       "      <td>0.0</td>\n",
       "      <td>0.0</td>\n",
       "    </tr>\n",
       "    <tr>\n",
       "      <th>min</th>\n",
       "      <td>0.000000e+00</td>\n",
       "      <td>67.550000</td>\n",
       "      <td>69.590000</td>\n",
       "      <td>68.368525</td>\n",
       "      <td>20.000000</td>\n",
       "      <td>20.062500</td>\n",
       "      <td>20.035714</td>\n",
       "      <td>1.922230e+02</td>\n",
       "      <td>0.000000</td>\n",
       "      <td>0.471334</td>\n",
       "      <td>11.520000</td>\n",
       "      <td>2.095409</td>\n",
       "      <td>8192.0</td>\n",
       "      <td>8.0</td>\n",
       "      <td>750.0</td>\n",
       "    </tr>\n",
       "    <tr>\n",
       "      <th>25%</th>\n",
       "      <td>5.330391e+03</td>\n",
       "      <td>192.080000</td>\n",
       "      <td>203.480000</td>\n",
       "      <td>197.904355</td>\n",
       "      <td>21.187500</td>\n",
       "      <td>21.250000</td>\n",
       "      <td>21.237500</td>\n",
       "      <td>3.062537e+04</td>\n",
       "      <td>0.373776</td>\n",
       "      <td>1.615457</td>\n",
       "      <td>5437.512500</td>\n",
       "      <td>7.897912</td>\n",
       "      <td>8192.0</td>\n",
       "      <td>8.0</td>\n",
       "      <td>750.0</td>\n",
       "    </tr>\n",
       "    <tr>\n",
       "      <th>50%</th>\n",
       "      <td>4.648057e+04</td>\n",
       "      <td>265.665000</td>\n",
       "      <td>276.715000</td>\n",
       "      <td>269.779194</td>\n",
       "      <td>22.562500</td>\n",
       "      <td>22.562500</td>\n",
       "      <td>22.562500</td>\n",
       "      <td>8.969957e+04</td>\n",
       "      <td>0.503380</td>\n",
       "      <td>3.103832</td>\n",
       "      <td>15946.510000</td>\n",
       "      <td>10.677639</td>\n",
       "      <td>8192.0</td>\n",
       "      <td>8.0</td>\n",
       "      <td>750.0</td>\n",
       "    </tr>\n",
       "    <tr>\n",
       "      <th>75%</th>\n",
       "      <td>2.442098e+05</td>\n",
       "      <td>356.807500</td>\n",
       "      <td>371.377500</td>\n",
       "      <td>364.777328</td>\n",
       "      <td>24.000000</td>\n",
       "      <td>24.062500</td>\n",
       "      <td>24.044643</td>\n",
       "      <td>3.590329e+05</td>\n",
       "      <td>0.876950</td>\n",
       "      <td>4.391323</td>\n",
       "      <td>81279.882500</td>\n",
       "      <td>15.457764</td>\n",
       "      <td>8192.0</td>\n",
       "      <td>8.0</td>\n",
       "      <td>750.0</td>\n",
       "    </tr>\n",
       "    <tr>\n",
       "      <th>max</th>\n",
       "      <td>4.142241e+06</td>\n",
       "      <td>493.500000</td>\n",
       "      <td>504.600000</td>\n",
       "      <td>495.164516</td>\n",
       "      <td>29.375000</td>\n",
       "      <td>29.375000</td>\n",
       "      <td>29.375000</td>\n",
       "      <td>2.344183e+06</td>\n",
       "      <td>1.048051</td>\n",
       "      <td>27.970126</td>\n",
       "      <td>354112.340000</td>\n",
       "      <td>106.013770</td>\n",
       "      <td>8192.0</td>\n",
       "      <td>8.0</td>\n",
       "      <td>750.0</td>\n",
       "    </tr>\n",
       "  </tbody>\n",
       "</table>\n",
       "</div>"
      ],
      "text/plain": [
       "              score    watts-min    watts-max    watts-avg     temp-min  \\\n",
       "count  3.112000e+03  3112.000000  3112.000000  3112.000000  3112.000000   \n",
       "mean   3.204501e+05   271.749987   282.537057   276.597605    22.910447   \n",
       "std    6.026955e+05   101.986656   104.603096   103.537904     2.051635   \n",
       "min    0.000000e+00    67.550000    69.590000    68.368525    20.000000   \n",
       "25%    5.330391e+03   192.080000   203.480000   197.904355    21.187500   \n",
       "50%    4.648057e+04   265.665000   276.715000   269.779194    22.562500   \n",
       "75%    2.442098e+05   356.807500   371.377500   364.777328    24.000000   \n",
       "max    4.142241e+06   493.500000   504.600000   495.164516    29.375000   \n",
       "\n",
       "          temp-max     temp-avg  calibration-score  actual-load   norm-score  \\\n",
       "count  3112.000000  3112.000000       2.736000e+03  2808.000000  3040.000000   \n",
       "mean     22.952241    22.932338       4.705268e+05     0.609434     3.492761   \n",
       "std       2.056999     2.053953       7.396114e+05     0.296561     2.941399   \n",
       "min      20.062500    20.035714       1.922230e+02     0.000000     0.471334   \n",
       "25%      21.250000    21.237500       3.062537e+04     0.373776     1.615457   \n",
       "50%      22.562500    22.562500       8.969957e+04     0.503380     3.103832   \n",
       "75%      24.062500    24.044643       3.590329e+05     0.876950     4.391323   \n",
       "max      29.375000    29.375000       2.344183e+06     1.048051    27.970126   \n",
       "\n",
       "           ref-score  efficiency-score  dimm_size_mb   dimms     psu  \n",
       "count    3040.000000       3040.000000        3112.0  3112.0  3112.0  \n",
       "mean    90131.503500         12.443580        8192.0     8.0   750.0  \n",
       "std    136025.498985          8.793184           0.0     0.0     0.0  \n",
       "min        11.520000          2.095409        8192.0     8.0   750.0  \n",
       "25%      5437.512500          7.897912        8192.0     8.0   750.0  \n",
       "50%     15946.510000         10.677639        8192.0     8.0   750.0  \n",
       "75%     81279.882500         15.457764        8192.0     8.0   750.0  \n",
       "max    354112.340000        106.013770        8192.0     8.0   750.0  "
      ]
     },
     "execution_count": 12,
     "metadata": {},
     "output_type": "execute_result"
    }
   ],
   "source": [
    "sert_data = pd.DataFrame()\n",
    "\n",
    "if not os.path.isdir(working_dir):\n",
    "    os.makedirs(working_dir, exist_ok=True)\n",
    "\n",
    "\n",
    "if not os.path.isfile(f'{working_dir}//{all_data_file}') or overwrite_data:\n",
    "\n",
    "    metrics_data = pd.DataFrame()\n",
    "    test_details = pd.DataFrame()\n",
    "    scores = pd.DataFrame()\n",
    "    invalid_results = []   # List of skipped results because they're invalid\n",
    "\n",
    "    for f in glob.glob(f'{sert_results_dir}//**//results.xml', recursive=True):\n",
    "        try:\n",
    "            # Name of test directory -- sert-xxxx\n",
    "            test_name = os.path.basename(os.path.dirname(f))\n",
    "\n",
    "            if os.path.isfile(f'{sert_results_dir}//{test_name}//invalid.png'):\n",
    "                invalid_results.append(test_name)\n",
    "                continue\n",
    "            \n",
    "            # Load the SERT result\n",
    "            metrics, score, env = process_results_xml(f)\n",
    "\n",
    "            file_df = pd.DataFrame.from_records(metrics)\n",
    "            # Remove calibration runs but record the calibration score against each loadlevel to calculate actual loadlevel\n",
    "            calibrations = file_df.loc[file_df['loadlevel']=='calibration', ['worklet', 'score']]\n",
    "            calibrations = calibrations.rename(columns={'score': 'calibration-score'})\n",
    "\n",
    "            file_df = pd.merge(file_df.drop(index=calibrations.index), calibrations, how='left', on='worklet')\n",
    "            file_df['actual-load'] = file_df['score'] / file_df['calibration-score']\n",
    "            file_df['test-name'] = test_name\n",
    "\n",
    "            score_df = pd.DataFrame.from_records(score)\n",
    "            score_df['test-name'] = test_name\n",
    "\n",
    "            metrics_data = metrics_data.append(file_df, ignore_index=True)\n",
    "            test_details = test_details.append(pd.DataFrame.from_records(env, index=[test_name]))\n",
    "            scores = scores.append(score_df, ignore_index=True)\n",
    "\n",
    "        except Exception as e:\n",
    "            print(f, ': FAILED TO LOAD -- ', e, type(e))\n",
    "    \n",
    "    if len(invalid_results) > 0:    \n",
    "        print(f'Invalid results skipped: {invalid_results}')\n",
    "\n",
    "    # Load external details for test\n",
    "    if bios_setting_file != '' and os.path.isfile(bios_setting_file):\n",
    "        settings = pd.read_csv(bios_setting_file, index_col=0)\n",
    "    else:\n",
    "        settings = pd.DataFrame()\n",
    "    #settings.columns = ['location', 'bios']\n",
    "    test_details = pd.merge(test_details, settings, left_index=True, right_index=True)\n",
    "    # TODO: Add pressure lookup here for tunnel tests\n",
    "\n",
    "    # Join metrics and test details to results.\n",
    "    sert_data = pd.merge(metrics_data, scores, how='left', on=['test-name', 'worklet', 'loadlevel', 'workload', 'score', 'watts-avg'])\n",
    "    sert_data = pd.merge(sert_data, test_details, left_on='test-name', right_index=True)\n",
    "    sert_data.loc[sert_data['workload'] == 'Idle', 'actual-load'] = 0\n",
    "\n",
    "\n",
    "    # Store generated data\n",
    "    metrics_data.to_csv(f'{working_dir}//sert_metrics.csv', index=False)\n",
    "    test_details.to_csv(f'{working_dir}//test_details.csv')\n",
    "    scores.to_csv(f'{working_dir}//scores.csv', index=False)\n",
    "    sert_data.to_csv(f'{working_dir}//{all_data_file}', index=False)\n",
    "    \n",
    "else:\n",
    "    print(f'Loading SERT data from disk')\n",
    "    sert_data = pd.read_csv(f'{working_dir}//{all_data_file}', parse_dates=['start', 'end'])\n",
    "    \n",
    "sert_data.describe()\n",
    "        "
   ]
  },
  {
   "cell_type": "markdown",
   "id": "83c214ef",
   "metadata": {},
   "source": [
    "# Efficiency and power consumption measured by SERT\n",
    "\n",
    "For the CPU workelts in particular, we can plot the benchmark load against the efficiency score achevied for each scenario. "
   ]
  },
  {
   "cell_type": "code",
   "execution_count": null,
   "id": "df86b35a",
   "metadata": {},
   "outputs": [],
   "source": [
    "cpu = sert_data[(sert_data['workload'] == 'CPU')| (sert_data['workload'] == 'Idle')]\n",
    "cpu['scenario'] = list(' - '.join(s) for s in zip(cpu['model'], cpu['cpu']))\n",
    "\n",
    "sns.lmplot(x='actual-load', y='efficiency-score', hue='scenario', col='bios', \n",
    "           data=cpu[cpu['temp-avg'] < 23.5], order=2, truncate=True, scatter=True).fig.suptitle('CPU Worklet Efficiency Scores', y=1.1)\n",
    "sns.lmplot(x='actual-load', y='watts-avg', hue='scenario', col='bios', \n",
    "           data=cpu[cpu['temp-avg'] < 23.5], order=2, truncate=True, scatter=True).fig.suptitle('CPU Worklet Power Consumption', y=1.1)"
   ]
  },
  {
   "cell_type": "markdown",
   "id": "512c31a8",
   "metadata": {},
   "source": [
    "A cleaner plot without the individual data plotted for each sert run. "
   ]
  },
  {
   "cell_type": "code",
   "execution_count": null,
   "id": "662fcfd4",
   "metadata": {},
   "outputs": [],
   "source": [
    "sns.lmplot(x='actual-load', y='efficiency-score', hue='scenario', data=cpu[cpu['temp-avg'] < 22.5], order=2, truncate=True, scatter=False)\n",
    "ax = plt.gca()\n",
    "ax.set_title('CPU Worklet Efficiency Scores ( Test Temperature < 22.5C)')"
   ]
  },
  {
   "cell_type": "markdown",
   "id": "267b12c8",
   "metadata": {},
   "source": [
    "The environmental conditions for the tests are as follows:"
   ]
  },
  {
   "cell_type": "code",
   "execution_count": null,
   "id": "0c6f7295",
   "metadata": {},
   "outputs": [],
   "source": [
    "print('Mean\\n', cpu.groupby('scenario')['temp-avg'].mean())\n",
    "print('\\nVariance\\n', cpu.groupby('scenario')['temp-avg'].var())"
   ]
  },
  {
   "cell_type": "markdown",
   "id": "dcf715ba",
   "metadata": {},
   "source": [
    "# CPU Power\n",
    "\n",
    "The CPU is usually considered the driver of most power consumption in the server (excluding any expansion cards). During the SERT tests we have also recorded low-level performance registers of the CPU like per-core frequency and also power consumption. \n",
    "\n",
    "Todo: \n",
    "- Determine relationship between chassis and CPU power consumption\n",
    "    - Assume power = P_Idle + P_Chassis + P_CPU\n",
    "    - IS P_Chassis a function of CPU power?\n",
    "    \n",
    "    \n",
    "Read the CPU power data in and summarise for the tests"
   ]
  },
  {
   "cell_type": "code",
   "execution_count": null,
   "id": "acdce9cb",
   "metadata": {},
   "outputs": [],
   "source": [
    "cpu_metrics = pd.DataFrame()\n",
    "\n",
    "if not os.path.exists(f'{working_dir}//cpu_metrics.csv') or overwrite_data :\n",
    "    \n",
    "    for f in glob.glob(f'{cpu_metrics_dir}//**.csv', recursive=True):\n",
    "        try:\n",
    "            samples = pd.read_csv(f, skiprows=8, header=0, index_col=0, parse_dates=['Time'], encoding='cp1252')\n",
    "            if not pd.api.types.is_datetime64_any_dtype(samples.index.dtype):\n",
    "                # Final row contains \"Session end:\"\n",
    "                samples.drop('Session end:', inplace=True)\n",
    "                samples.index = pd.to_datetime(samples.index)\n",
    "\n",
    "            cpu_metrics = cpu_metrics.append(samples)\n",
    "        except:\n",
    "            print(f'FAILED LOADING FILE: {f}')\n",
    "\n",
    "    cpu_metrics.sort_index(inplace=True)\n",
    "    cpu_metrics['total cpu power'] = cpu_metrics['CPU 0 Power'] + cpu_metrics['CPU 1 Power']\n",
    "    \n",
    "    cpu_metrics.to_csv(f'{working_dir}//cpu_metrics.csv')\n",
    "    \n",
    "else:\n",
    "    cpu_metrics = pd.read_csv(f'{working_dir}//cpu_metrics.csv', index_col='Time', parse_dates=['Time'])\n",
    "    "
   ]
  },
  {
   "cell_type": "code",
   "execution_count": null,
   "id": "5b119c66",
   "metadata": {},
   "outputs": [],
   "source": [
    "cpu_metrics['avg-temp'] = cpu_metrics.filter(regex='Temp').mean(axis=1, skipna=True)\n",
    "cpu_metrics['avg-load'] = cpu_metrics.filter(regex='load').mean(axis=1, skipna=True)\n",
    "cpu_metrics['avg-freq'] = cpu_metrics.filter(regex='speed').mean(axis=1, skipna=True)\n",
    "\n",
    "\n",
    "#pd.to_datetime(cpu_metrics['Time']\n",
    "sert_data['cpu-power'] = sert_data.apply(lambda row: cpu_metrics['total cpu power'][row['start'].tz_localize(None):row['end'].tz_localize(None)].mean(), axis=1)\n",
    "sert_data['chassis-power'] = sert_data['watts-avg'] - sert_data['cpu-power']\n",
    "\n",
    "sert_data['cpu-temp'] = sert_data.apply(lambda row: cpu_metrics['avg-temp'][row['start'].tz_localize(None):row['end'].tz_localize(None)].mean(), axis=1)\n",
    "sert_data['cpu-load'] = sert_data.apply(lambda row: cpu_metrics['avg-load'][row['start'].tz_localize(None):row['end'].tz_localize(None)].mean(), axis=1)\n",
    "sert_data['cpu-freq'] = sert_data.apply(lambda row: cpu_metrics['avg-freq'][row['start'].tz_localize(None):row['end'].tz_localize(None)].mean(), axis=1)\n",
    "\n"
   ]
  },
  {
   "cell_type": "markdown",
   "id": "0031968c",
   "metadata": {},
   "source": [
    "Looking again at the server efficiency scores, but now using the CPU utilsiation dat from the OS rather than the load data calculated by SERT. SERT load is a proportion of the total score/transactions acheived during the calibration runs. OS CPU utilisaiton is the proportion of time the CPU is busy performing operations. "
   ]
  },
  {
   "cell_type": "code",
   "execution_count": null,
   "id": "c082fb0e",
   "metadata": {},
   "outputs": [],
   "source": [
    "cpu_worklets = sert_data[(sert_data['workload'] == 'Idle') | (sert_data['workload'] == 'CPU')]\n",
    "cpu_worklets['scenario'] = list(' - '.join(x) for x in zip(cpu_worklets['model'], cpu_worklets['cpu']))\n",
    "sns.lmplot(x='cpu-load', y='efficiency-score', hue='scenario', col='bios', data=cpu_worklets[cpu_worklets['temp-avg'] < 22.5], order=2, truncate=True, scatter=True).fig.suptitle('Efficiency Scores ( Test Temperature < 22.5C)', y=1.1)\n"
   ]
  },
  {
   "cell_type": "markdown",
   "id": "93081c2b",
   "metadata": {},
   "source": [
    "This is a significantly different relationship than that shown for the SERT load. \n",
    "\n",
    "Breaking down the performance per server and per worklet."
   ]
  },
  {
   "cell_type": "code",
   "execution_count": null,
   "id": "68fdfcf7",
   "metadata": {},
   "outputs": [],
   "source": [
    "for server in cpu_worklets['scenario'].unique():\n",
    "    sns.lmplot(x='cpu-load', y='efficiency-score', hue='worklet', col='bios', data=cpu_worklets[cpu_worklets['scenario'] == server], order=2, truncate=True, scatter=True).fig.suptitle(f'Efficiency Scores - {server}', y=1.1)\n"
   ]
  },
  {
   "cell_type": "markdown",
   "id": "90aef965",
   "metadata": {},
   "source": [
    "# CPU power consumption"
   ]
  },
  {
   "cell_type": "code",
   "execution_count": null,
   "id": "a183029b",
   "metadata": {},
   "outputs": [],
   "source": [
    "plotdf = cpu_worklets.melt('actual-load', ['watts-avg', 'cpu-power', 'chassis-power'])\n",
    "\n",
    "sns.lmplot(x='actual-load', y='value', hue='variable', data=plotdf, order=2)"
   ]
  },
  {
   "cell_type": "code",
   "execution_count": null,
   "id": "148a7840",
   "metadata": {},
   "outputs": [],
   "source": [
    "for server in cpu_worklets['scenario'].unique():\n",
    "    plotdf = cpu_worklets[cpu_worklets['scenario'] == server].melt(['actual-load', 'bios'], ['watts-avg', 'cpu-power', 'chassis-power'])\n",
    "\n",
    "    sns.lmplot(x='actual-load', y='value', col='bios', hue='variable', data=plotdf, order=2).fig.suptitle(f'Power Breakdown - {server}', y=1.1)"
   ]
  },
  {
   "cell_type": "code",
   "execution_count": null,
   "id": "fee182f0",
   "metadata": {},
   "outputs": [],
   "source": [
    "for server in cpu_worklets['scenario'].unique():\n",
    "    plotdf = cpu_worklets[cpu_worklets['scenario'] == server].melt(['cpu-load', 'bios'], ['watts-avg', 'cpu-power', 'chassis-power'])\n",
    "\n",
    "    sns.lmplot(x='cpu-load', y='value', col='bios', hue='variable', data=plotdf, order=2).fig.suptitle(f'Power Breakdown - {server}', y=1.1)"
   ]
  },
  {
   "cell_type": "code",
   "execution_count": null,
   "id": "94abd396",
   "metadata": {},
   "outputs": [],
   "source": [
    "cpu = sert_data[(sert_data['workload'] == 'CPU')| (sert_data['workload'] == 'Idle')]\n",
    "cpu = cpu[cpu['model'] == 'PowerEdge R620']\n",
    "#cpu = cpu[cpu['cpu'].str.contains('E5-2690 0')]\n",
    "\n",
    "\n",
    "#sns.lmplot(x='cpu-power', y='chassis-power', hue='worklet', data=cpu, order=2)\n",
    "sns.scatterplot(x='temp-avg', y='watts-avg', hue='cpu', data=cpu)"
   ]
  },
  {
   "cell_type": "code",
   "execution_count": null,
   "id": "8e26498c",
   "metadata": {},
   "outputs": [],
   "source": []
  },
  {
   "cell_type": "code",
   "execution_count": null,
   "id": "66cddb46",
   "metadata": {},
   "outputs": [],
   "source": [
    "sns.lmplot(x='cpu-load', y='cpu-power', data=cpu, order=2)"
   ]
  },
  {
   "cell_type": "code",
   "execution_count": null,
   "id": "84d74e2d",
   "metadata": {},
   "outputs": [],
   "source": [
    "ax = plt.scatter(x=cpu['cpu-temp'], y=cpu['cpu-power'], c=cpu['temp-avg'])\n",
    "cbar = plt.colorbar()\n",
    "cbar.ax.set_ylabel('Ambient Temp', rotation=90)\n",
    "plt.ylabel('CPU Power')\n",
    "plt.xlabel('CPU Temp')\n",
    "plt.title('R620 E5-2690, Efficiency (DPAC) Mode')"
   ]
  },
  {
   "cell_type": "code",
   "execution_count": null,
   "id": "e459b127",
   "metadata": {},
   "outputs": [],
   "source": [
    "ax = plt.scatter(x=cpu['cpu-temp'], y=cpu['cpu-power'], c=cpu['cpu-load'])\n",
    "cbar = plt.colorbar()\n",
    "cbar.ax.set_ylabel('CPU Load', rotation=90)\n",
    "plt.ylabel('CPU Power')\n",
    "plt.xlabel('CPU Temp')\n",
    "plt.title('R620 E5-2690, Efficiency (DPAC) Mode')"
   ]
  },
  {
   "cell_type": "code",
   "execution_count": null,
   "id": "9f874860",
   "metadata": {},
   "outputs": [],
   "source": [
    "ax = plt.scatter(x=cpu['cpu-freq'], y=cpu['cpu-power'], c=cpu['cpu-load'])\n",
    "cbar = plt.colorbar()\n",
    "cbar.ax.set_ylabel('CPU Load', rotation=90)\n",
    "plt.ylabel('CPU Power')\n",
    "plt.xlabel('CPU Freq')\n",
    "plt.title('R620 E5-2690, Efficiency (DPAC) Mode')"
   ]
  },
  {
   "cell_type": "code",
   "execution_count": null,
   "id": "038cc64a",
   "metadata": {},
   "outputs": [],
   "source": []
  }
 ],
 "metadata": {
  "celltoolbar": "Tags",
  "kernelspec": {
   "display_name": "Python 3",
   "language": "python",
   "name": "python3"
  },
  "language_info": {
   "codemirror_mode": {
    "name": "ipython",
    "version": 3
   },
   "file_extension": ".py",
   "mimetype": "text/x-python",
   "name": "python",
   "nbconvert_exporter": "python",
   "pygments_lexer": "ipython3",
   "version": "3.9.5"
  }
 },
 "nbformat": 4,
 "nbformat_minor": 5
}
